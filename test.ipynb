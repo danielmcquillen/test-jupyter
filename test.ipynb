{
 "cells": [
  {
   "cell_type": "code",
   "execution_count": 1,
   "metadata": {},
   "outputs": [],
   "source": [
    "# Perform basic arithmetic operations\n",
    "a = 5\n",
    "b = 3\n",
    "\n",
    "# Addition\n",
    "add_result = a + b\n",
    "print(\"Addition result:\", add_result)\n",
    "\n",
    "# Subtraction\n",
    "sub_result = a - b\n",
    "print(\"Subtraction result:\", sub_result)\n",
    "\n",
    "# Multiplication\n",
    "mul_result = a * b\n",
    "print(\"Multiplication result:\", mul_result)\n",
    "\n",
    "# Division\n",
    "div_result = a / b\n",
    "print(\"Division result:\", div_result)"
   ]
  }
 ],
 "metadata": {
  "kernelspec": {
   "display_name": "Python 3",
   "language": "python",
   "name": "python3"
  },
  "language_info": {
   "codemirror_mode": {
    "name": "ipython",
    "version": 3
   },
   "file_extension": ".py",
   "mimetype": "text/x-python",
   "name": "python",
   "nbconvert_exporter": "python",
   "pygments_lexer": "ipython3",
   "version": "3.8.5"
  }
 },
 "nbformat": 4,
 "nbformat_minor": 5
}
